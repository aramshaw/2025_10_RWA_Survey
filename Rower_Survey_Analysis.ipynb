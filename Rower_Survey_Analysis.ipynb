{
 "cells": [
  {
   "cell_type": "markdown",
   "id": "50baf0ab",
   "metadata": {},
   "source": [
    "# 2025 End of Season Rower Survey Analysis\n",
    "\n",
    "This notebook contains the complete analysis of the Rower Survey data. It covers data loading, cleaning, processing, and visualization."
   ]
  },
  {
   "cell_type": "markdown",
   "id": "2b74f7a3",
   "metadata": {},
   "source": [
    "## 1. Setup and Imports\n",
    "Import all the necessary libraries for the analysis."
   ]
  },
  {
   "cell_type": "code",
   "execution_count": null,
   "id": "a632f6cb",
   "metadata": {},
   "outputs": [],
   "source": [
    "import pandas as pd\n",
    "import matplotlib.pyplot as plt\n",
    "import seaborn as sns\n",
    "import os\n",
    "import re"
   ]
  },
  {
   "cell_type": "markdown",
   "id": "c053e99d",
   "metadata": {},
   "source": [
    "## 2. Configuration\n",
    "Define the file paths for the data and mapping files."
   ]
  },
  {
   "cell_type": "code",
   "execution_count": null,
   "id": "724b071d",
   "metadata": {},
   "outputs": [],
   "source": [
    "file_path = \"2025 End of Season Rower Survey - Responses (AR).xlsx\"\n",
    "mapping_file_path = \"column_mapping.xlsx\"\n",
    "brand_colors_file = \"BrandColours.md\"\n",
    "chart_path = \"charts\""
   ]
  },
  {
   "cell_type": "markdown",
   "id": "28f78fe8",
   "metadata": {},
   "source": [
    "## 3. Helper Functions\n",
    "This section contains all the functions used for data processing and visualization, consolidated from the original `.py` scripts."
   ]
  },
  {
   "cell_type": "code",
   "execution_count": null,
   "id": "2ca4d8c4",
   "metadata": {},
   "outputs": [],
   "source": [
    "def load_data(path):\n",
    "    \"\"\"\n",
    "    Loads data from an Excel file into a pandas DataFrame.\n",
    "    \"\"\"\n",
    "    try:\n",
    "        df = pd.read_excel(path)\n",
    "        print(\"Data loaded successfully.\")\n",
    "        return df\n",
    "    except FileNotFoundError:\n",
    "        print(f\"Error: The file '{path}' was not found.\")\n",
    "        return None\n",
    "    except Exception as e:\n",
    "        print(f\"An error occurred while reading the file: {e}\")\n",
    "        return None\n",
    "\n",
    "def load_column_mapping(path):\n",
    "    \"\"\"\n",
    "    Loads column mapping from an Excel file.\n",
    "    \"\"\"\n",
    "    try:\n",
    "        mapping_df = pd.read_excel(path)\n",
    "        print(\"Column mapping loaded successfully.\")\n",
    "        return mapping_df\n",
    "    except FileNotFoundError:\n",
    "        print(f\"Error: The mapping file '{path}' was not found.\")\n",
    "        return None\n",
    "    except Exception as e:\n",
    "        print(f\"An error occurred while reading the mapping file: {e}\")\n",
    "        return None\n",
    "\n",
    "def apply_data_types(df, mapping_df):\n",
    "    \"\"\"\n",
    "    Applies data types to the DataFrame based on the mapping file.\n",
    "    \"\"\"\n",
    "    type_mapping = dict(zip(mapping_df[\"new_name\"], mapping_df[\"recommended_type\"]))\n",
    "    \n",
    "    ordered_likert_columns = [\n",
    "        \"support_1st_place_medals_masters\",\n",
    "        \"rating_promotion_governance\",\n",
    "        \"rating_accessibility\",\n",
    "        \"rating_positive_experience\",\n",
    "        \"rating_high_performance_pathways\",\n",
    "    ]\n",
    "    category_order = [\"Strongly Disagree\", \"Disagree\", \"Neutral\", \"Agree\", \"Strongly Agree\"]\n",
    "    cat_dtype = pd.api.types.CategoricalDtype(categories=category_order, ordered=True)\n",
    "    mapping = {i + 1: label for i, label in enumerate(category_order)}\n",
    "\n",
    "    for col_name, dtype in type_mapping.items():\n",
    "        if col_name in df.columns:\n",
    "            try:\n",
    "                if col_name in ordered_likert_columns:\n",
    "                    df[col_name] = df[col_name].map(mapping).astype(cat_dtype)\n",
    "                    print(f\"Applied ordered categorical type to '{col_name}'.\")\n",
    "                    continue\n",
    "\n",
    "                if pd.api.types.is_string_dtype(dtype) and dtype.startswith(\"Int\"):\n",
    "                    df[col_name] = pd.to_numeric(df[col_name], errors=\"coerce\").astype(dtype)\n",
    "                elif dtype == \"float64\":\n",
    "                    df[col_name] = pd.to_numeric(df[col_name], errors=\"coerce\")\n",
    "                else:\n",
    "                    df[col_name] = df[col_name].astype(dtype)\n",
    "            except Exception as e:\n",
    "                print(f\"Could not convert column '{col_name}' to '{dtype}': {e}\")\n",
    "    print(\"\\nData types applied successfully.\")\n",
    "    return df\n",
    "\n",
    "def get_brand_colors(file_path=\"BrandColours.md\"):\n",
    "    \"\"\"\n",
    "    Parses a markdown file to extract brand color hex codes for charts.\n",
    "    \"\"\"\n",
    "    colors = []\n",
    "    try:\n",
    "        with open(file_path, \"r\") as f:\n",
    "            for line in f:\n",
    "                if \"HEX:\" in line:\n",
    "                    match = re.search(r\"#(?:[0-9a-fA-F]{3}){1,2}\", line)\n",
    "                    if match:\n",
    "                        colors.append(match.group(0))\n",
    "    except FileNotFoundError:\n",
    "        print(f\"Warning: Brand color file '{file_path}' not found. Using default colors.\")\n",
    "        return None\n",
    "    return colors[:5] if colors else None\n",
    "\n",
    "def create_bar_chart(df, column_name, chart_path=\"charts\", brand_colors_file=\"BrandColours.md\", highlight_bar=None, chart_name=None, title=None):\n",
    "    \"\"\"\n",
    "    Creates and saves a bar chart for a given column.\n",
    "    \"\"\"\n",
    "    if column_name not in df.columns:\n",
    "        print(f\"Column '{column_name}' not found in the DataFrame.\")\n",
    "        return\n",
    "\n",
    "    if not os.path.exists(chart_path):\n",
    "        os.makedirs(chart_path)\n",
    "\n",
    "    brand_colors = get_brand_colors(brand_colors_file)\n",
    "    default_color = brand_colors[0] if brand_colors else \"#003E7E\"\n",
    "    highlight_color = brand_colors[2] if brand_colors and len(brand_colors) > 2 else \"#FFB81C\"\n",
    "\n",
    "    if pd.api.types.is_categorical_dtype(df[column_name]) and df[column_name].cat.ordered:\n",
    "        order = df[column_name].cat.categories\n",
    "    else:\n",
    "        order = df[column_name].value_counts().index\n",
    "\n",
    "    palette = [highlight_color if bar == highlight_bar else default_color for bar in order] if highlight_bar and highlight_bar in order else [default_color] * len(order)\n",
    "\n",
    "    plt.figure(figsize=(10, 6))\n",
    "    sns.countplot(y=df[column_name].dropna(), order=order, palette=palette)\n",
    "    plt.title(title if title else f'Distribution of Responses for \"{column_name}\"')\n",
    "    plt.xlabel(\"Count\")\n",
    "    plt.ylabel(\"Response\")\n",
    "    plt.tight_layout()\n",
    "\n",
    "    file_name = f\"{chart_name}.png\" if chart_name else f\"{column_name}_distribution.png\"\n",
    "    save_path = os.path.join(chart_path, file_name)\n",
    "    plt.savefig(save_path)\n",
    "    print(f\"\\nChart saved to '{save_path}'\")\n",
    "    plt.close()\n",
    "\n",
    "def create_comparison_chart(df, col1, col2, chart_path=\"charts\", brand_colors_file=\"BrandColours.md\", chart_name=None, title=None, legend_labels=(\"Col1\", \"Col2\")):\n",
    "    \"\"\"\n",
    "    Creates a grouped bar chart to compare two columns.\n",
    "    \"\"\"\n",
    "    if col1 not in df.columns or col2 not in df.columns:\n",
    "        print(f\"One or both columns '{col1}', '{col2}' not found.\")\n",
    "        return\n",
    "\n",
    "    melted_df = df.melt(value_vars=[col1, col2], var_name=\"location\", value_name=\"preference\")\n",
    "    melted_df[\"location\"].replace({col1: legend_labels[0], col2: legend_labels[1]}, inplace=True)\n",
    "    \n",
    "    brand_colors = get_brand_colors(brand_colors_file)\n",
    "    palette = brand_colors[:2] if brand_colors and len(brand_colors) >= 2 else [\"#003E7E\", \"#FFB81C\"]\n",
    "    \n",
    "    preference_order = [\"Strongly Prefer\", \"Prefer\", \"Neutral\", \"Don't Prefer\", \"Strongly Don't Prefer\"]\n",
    "    order = [p for p in preference_order if p in melted_df[\"preference\"].unique()]\n",
    "\n",
    "    plt.figure(figsize=(12, 7))\n",
    "    sns.countplot(data=melted_df, y=\"preference\", hue=\"location\", order=order, palette=palette)\n",
    "    plt.title(title if title else f\"Comparison of {col1} and {col2}\")\n",
    "    plt.xlabel(\"Count of Responses\")\n",
    "    plt.ylabel(\"Preference\")\n",
    "    plt.legend(title=\"Location\")\n",
    "    plt.tight_layout()\n",
    "\n",
    "    file_name = f\"{chart_name}.png\" if chart_name else f\"{col1}_vs_{col2}_comparison.png\"\n",
    "    save_path = os.path.join(chart_path, file_name)\n",
    "    if not os.path.exists(chart_path):\n",
    "        os.makedirs(chart_path)\n",
    "    plt.savefig(save_path)\n",
    "    print(f\"\\nComparison chart saved to '{save_path}'\")\n",
    "    plt.close()\n",
    "\n",
    "def create_reasons_summary_chart(df, reason_columns, chart_path=\"charts\", brand_colors_file=\"BrandColours.md\", chart_name=None, title=None):\n",
    "    \"\"\"\n",
    "    Creates a summary bar chart for multiple boolean-like reason columns.\n",
    "    \"\"\"\n",
    "    reason_counts = df[reason_columns.keys()].sum().sort_values(ascending=False)\n",
    "    reason_counts.index = reason_counts.index.map(reason_columns)\n",
    "    \n",
    "    brand_colors = get_brand_colors(brand_colors_file)\n",
    "    default_color = brand_colors[0] if brand_colors else \"#003E7E\"\n",
    "\n",
    "    plt.figure(figsize=(10, 7))\n",
    "    sns.barplot(x=reason_counts.values, y=reason_counts.index, color=default_color)\n",
    "    plt.title(title if title else \"Summary of Reasons\")\n",
    "    plt.xlabel(\"Number of Rowers Citing Reason\")\n",
    "    plt.ylabel(\"Reason\")\n",
    "    plt.tight_layout()\n",
    "\n",
    "    file_name = f\"{chart_name}.png\" if chart_name else \"reasons_summary.png\"\n",
    "    save_path = os.path.join(chart_path, file_name)\n",
    "    if not os.path.exists(chart_path):\n",
    "        os.makedirs(chart_path)\n",
    "    plt.savefig(save_path)\n",
    "    print(f\"\\nSummary chart saved to '{save_path}'\")\n",
    "    plt.close()\n",
    "\n",
    "print(\"All helper functions defined.\")"
   ]
  },
  {
   "cell_type": "markdown",
   "id": "90fb1c61",
   "metadata": {},
   "source": [
    "## 4. Data Loading and Pre-processing\n",
    "Load the survey data and the column mapping file, then rename and apply the correct data types to the columns."
   ]
  },
  {
   "cell_type": "code",
   "execution_count": null,
   "id": "25250460",
   "metadata": {},
   "outputs": [],
   "source": [
    "survey_data = load_data(file_path)\n",
    "mapping_df = load_column_mapping(mapping_file_path)\n",
    "\n",
    "if survey_data is not None and mapping_df is not None:\n",
    "    column_mapping = dict(zip(mapping_df[\"old_name\"], mapping_df[\"new_name\"]))\n",
    "    survey_data.rename(columns=column_mapping, inplace=True)\n",
    "    print(\"\\nColumns renamed.\")\n",
    "    \n",
    "    survey_data = apply_data_types(survey_data, mapping_df)\n",
    "    \n",
    "    print(\"\\nData processing complete. Displaying DataFrame info:\")\n",
    "    survey_data.info()\n",
    "    display(survey_data.head())"
   ]
  },
  {
   "cell_type": "markdown",
   "id": "6b389ef3",
   "metadata": {},
   "source": [
    "## 5. Filter for Masters Rowers\n",
    "Create a separate DataFrame containing only the responses from Masters rowers (age 27+)."
   ]
  },
  {
   "cell_type": "code",
   "execution_count": null,
   "id": "0845201f",
   "metadata": {},
   "outputs": [],
   "source": [
    "if 'age_category' in survey_data.columns:\n",
    "    masters_age_categories = [\"27-40\", \"41-60\", \"61+\"]\n",
    "    masters_df = survey_data[survey_data[\"age_category\"].isin(masters_age_categories)].copy()\n",
    "    print(f\"Filtered for Masters rowers. Found {len(masters_df)} responses.\")\n",
    "    display(masters_df.head())\n",
    "else:\n",
    "    print(\"Column 'age_category' not found. Cannot filter for Masters rowers.\")"
   ]
  },
  {
   "cell_type": "markdown",
   "id": "197f2b72",
   "metadata": {},
   "source": [
    "## 6. Generate Visualizations\n",
    "Create and save charts for the analyzed data. Each chart is generated in its own cell."
   ]
  },
  {
   "cell_type": "markdown",
   "id": "115dda18",
   "metadata": {},
   "source": [
    "### Masters: Season Extension"
   ]
  },
  {
   "cell_type": "code",
   "execution_count": null,
   "id": "21e0a217",
   "metadata": {},
   "outputs": [],
   "source": [
    "create_bar_chart(\n",
    "    masters_df,\n",
    "    \"desired_masters_season_extension\",\n",
    "    chart_name=\"desired_masters_season_extension_distribution\",\n",
    "    title=\"Desired Masters Season Extension\",\n",
    ")"
   ]
  },
  {
   "cell_type": "markdown",
   "id": "2728c08a",
   "metadata": {},
   "source": [
    "### Masters: Location Preference (Canning Bridge vs. Champion Lakes)"
   ]
  },
  {
   "cell_type": "code",
   "execution_count": null,
   "id": "e818ed94",
   "metadata": {},
   "outputs": [],
   "source": [
    "create_comparison_chart(\n",
    "    masters_df,\n",
    "    \"prefer_canning_bridge_masters\",\n",
    "    \"prefer_champion_lakes_masters\",\n",
    "    chart_name=\"location_preference_comparison_masters\",\n",
    "    title=\"Masters Rowers: Preference for Canning Bridge vs. Champion Lakes\",\n",
    "    legend_labels=(\"Canning Bridge\", \"Champion Lakes\"),\n",
    ")"
   ]
  },
  {
   "cell_type": "markdown",
   "id": "316e99be",
   "metadata": {},
   "source": [
    "### Masters: Support for 1st Place Medals"
   ]
  },
  {
   "cell_type": "code",
   "execution_count": null,
   "id": "467bedd6",
   "metadata": {},
   "outputs": [],
   "source": [
    "create_bar_chart(\n",
    "    masters_df,\n",
    "    \"support_1st_place_medals_masters\",\n",
    "    chart_name=\"support_1st_place_medals_masters_distribution\",\n",
    "    title=\"Support for 1st Place Medals for Masters\",\n",
    ")"
   ]
  },
  {
   "cell_type": "markdown",
   "id": "b77c1b22",
   "metadata": {},
   "source": [
    "### General Ratings (All Rowers)"
   ]
  },
  {
   "cell_type": "code",
   "execution_count": null,
   "id": "6761e39d",
   "metadata": {},
   "outputs": [],
   "source": [
    "rating_columns = {\n",
    "    \"rating_promotion_governance\": \"Rating of Promotion and Governance\",\n",
    "    \"rating_accessibility\": \"Rating of Accessibility\",\n",
    "    \"rating_positive_experience\": \"Rating of Positive Experience\",\n",
    "    \"rating_high_performance_pathways\": \"Rating of High-Performance Pathways\",\n",
    "}\n",
    "\n",
    "for col, title in rating_columns.items():\n",
    "    create_bar_chart(\n",
    "        survey_data,\n",
    "        col,\n",
    "        chart_name=f\"{col}_distribution\",\n",
    "        title=title,\n",
    "    )"
   ]
  },
  {
   "cell_type": "markdown",
   "id": "3e4e3e6f",
   "metadata": {},
   "source": [
    "### Masters: Reasons for Not Competing"
   ]
  },
  {
   "cell_type": "code",
   "execution_count": null,
   "id": "0cb4c8a6",
   "metadata": {},
   "outputs": [],
   "source": [
    "reasons_columns = {\n",
    "    \"reason_recreational_time_commitment\": \"Time Commitment\",\n",
    "    \"reason_recreational_skill_level\": \"Skill Level\",\n",
    "    \"reason_recreational_cost\": \"Cost\",\n",
    "    \"reason_recreational_social_aspect\": \"Prefer Social Aspect\",\n",
    "}\n",
    "\n",
    "create_reasons_summary_chart(\n",
    "    masters_df,\n",
    "    reason_columns=reasons_columns,\n",
    "    chart_name=\"masters_reasons_not_competing\",\n",
    "    title=\"Primary Reasons Masters Rowers Do Not Compete\",\n",
    ")"
   ]
  },
  {
   "cell_type": "markdown",
   "id": "c5a6b8ea",
   "metadata": {},
   "source": [
    "### Masters: Support for Transition to Competitive Rowing"
   ]
  },
  {
   "cell_type": "code",
   "execution_count": null,
   "id": "adbf0f1e",
   "metadata": {},
   "outputs": [],
   "source": [
    "create_bar_chart(\n",
    "    masters_df,\n",
    "    \"support_transition_to_competitive\",\n",
    "    chart_name=\"masters_support_transition_to_competitive\",\n",
    "    title=\"Support for Transitioning to Competitive Rowing (Masters)\",\n",
    ")"
   ]
  }
 ],
 "metadata": {
  "language_info": {
   "name": "python"
  }
 },
 "nbformat": 4,
 "nbformat_minor": 5
}
